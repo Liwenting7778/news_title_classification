{
  "nbformat": 4,
  "nbformat_minor": 0,
  "metadata": {
    "colab": {
      "name": "news_classification.ipynb",
      "provenance": [],
      "collapsed_sections": [],
      "authorship_tag": "ABX9TyNM6iZIgLP/ZNr2Dz81CLXs",
      "include_colab_link": true
    },
    "kernelspec": {
      "name": "python3",
      "display_name": "Python 3"
    },
    "language_info": {
      "name": "python"
    }
  },
  "cells": [
    {
      "cell_type": "markdown",
      "metadata": {
        "id": "view-in-github",
        "colab_type": "text"
      },
      "source": [
        "<a href=\"https://colab.research.google.com/github/Liwenting7778/news_title_classification/blob/main/news_classification.ipynb\" target=\"_parent\"><img src=\"https://colab.research.google.com/assets/colab-badge.svg\" alt=\"Open In Colab\"/></a>"
      ]
    },
    {
      "cell_type": "code",
      "execution_count": null,
      "metadata": {
        "id": "VDiJgruNUNez"
      },
      "outputs": [],
      "source": [
        "import csv\n",
        "import os\n",
        "import jieba\n",
        "import re\n",
        "\n",
        "stopwords = [i.strip() for i in open('./data/cn_stop_words.txt',\"r\", encoding=\"utf-8\").readlines()]\n",
        "\n",
        "def pretty_cut(sentence):\n",
        "    cut_list = jieba.lcut(''.join(re.findall('[\\u4e00-\\u9fa5]', sentence)), cut_all=True)\n",
        "    for i in range(len(cut_list) - 1, -1, -1):\n",
        "        if cut_list[i] in stopwords:\n",
        "            del cut_list[i]\n",
        "    return cut_list\n",
        "\n",
        "f = open (\"./data/toutiao_cat_data.txt\", \"r\", encoding=\"utf-8\")\n",
        "lines = f.readlines()\n",
        "f.close()\n",
        "with open(os.path.join(\"./data/news.csv\"), \"w\", encoding=\"utf-8\", newline='') as g:\n",
        "    writer = csv.writer(g)\n",
        "    writer.writerow([\"label\", \"news\"])\n",
        "    for line in lines:\n",
        "        x = line.strip(\" \")\n",
        "        x = line.strip(\"\\n\")\n",
        "        y = x.split(\"_!_\")\n",
        "        z = \" \".join(y)\n",
        "        cut_y = \" \".join(pretty_cut(z))\n",
        "        writer.writerow([y[2],cut_y])\n"
      ]
    },
    {
      "cell_type": "code",
      "source": [
        "#加载google的云端硬盘\n",
        "from google.colab import drive\n",
        "drive.mount('/content/drive')"
      ],
      "metadata": {
        "colab": {
          "base_uri": "https://localhost:8080/"
        },
        "id": "vbP2qP5zT74C",
        "outputId": "60c3b4c4-2237-41cf-b94a-0b3c1c5bbc12"
      },
      "execution_count": 1,
      "outputs": [
        {
          "output_type": "stream",
          "name": "stdout",
          "text": [
            "Mounted at /content/drive\n"
          ]
        }
      ]
    },
    {
      "cell_type": "code",
      "source": [
        "import pandas as pd\n",
        "df = pd.read_csv('/content/drive/MyDrive/Colab Notebooks/news1.csv', delimiter=\",\",names=['label','news'])#将逗号分隔值（csv）文件读取到DataFrame中\n",
        "print(\"数据总量: %d .\" % len(df))\n",
        "df.sample(10)#对数据集进行抽样查看"
      ],
      "metadata": {
        "colab": {
          "base_uri": "https://localhost:8080/",
          "height": 381
        },
        "id": "HuSx6ao3XcNJ",
        "outputId": "0521c42e-c564-427c-a54d-d6719e3b2ace"
      },
      "execution_count": 2,
      "outputs": [
        {
          "output_type": "stream",
          "name": "stdout",
          "text": [
            "数据总量: 382689 .\n"
          ]
        },
        {
          "output_type": "execute_result",
          "data": {
            "text/plain": [
              "                     label                                               news\n",
              "18328           news_house  轻 奢 生活 百花 启幕 碧桂园 桂园 百花 里 产品 发布 发布会 璀璨 绽放 清镇 碧桂...\n",
              "242156         news_travel  倒计 倒计时 计时 天 襄阳 公里 一级 路标 标准 西三环 三环 环线 即将 开建 牛 首...\n",
              "177382        news_finance                                 有没有 没有 些小 小众 质量 品牌\n",
              "369178  news_entertainment  应 采 怀 时 接地 地气 霍思燕 肚子 更 可能 当年 王菲 小时 时代 怀孕 霍思燕 身...\n",
              "88378             news_edu            宝宝 念 小学 二年 二年级 年级 成绩 差 爱 学习 办法 提高 学习 兴趣\n",
              "162753            news_edu  九江 职 院 第八 第八届 八届 全国 国大 大学 大学生 学生 生机 机械 创新 新设 设...\n",
              "192158         news_sports                                   克服 习惯 习惯性 惯性 崴 脚\n",
              "111159        news_finance  希腊 房子 快 买光 传言 究竟 竟是 真是 真是假 中远 集团 希腊 经济 比雷埃夫斯 夫...\n",
              "338168        news_finance  岁 股市 女 奇才 豪言 研 股市 尾盘 买入 入法 半年 赚 千万 收藏 尾盘 选 股 超...\n",
              "258235        news_finance         龙头 特 停 卡位 龙头 恒瑞 恒瑞医药 医药 新 题材 贵州 复星 医药 新 医药"
            ],
            "text/html": [
              "\n",
              "  <div id=\"df-c73381ad-afeb-4472-8ed6-e8701859e8f7\">\n",
              "    <div class=\"colab-df-container\">\n",
              "      <div>\n",
              "<style scoped>\n",
              "    .dataframe tbody tr th:only-of-type {\n",
              "        vertical-align: middle;\n",
              "    }\n",
              "\n",
              "    .dataframe tbody tr th {\n",
              "        vertical-align: top;\n",
              "    }\n",
              "\n",
              "    .dataframe thead th {\n",
              "        text-align: right;\n",
              "    }\n",
              "</style>\n",
              "<table border=\"1\" class=\"dataframe\">\n",
              "  <thead>\n",
              "    <tr style=\"text-align: right;\">\n",
              "      <th></th>\n",
              "      <th>label</th>\n",
              "      <th>news</th>\n",
              "    </tr>\n",
              "  </thead>\n",
              "  <tbody>\n",
              "    <tr>\n",
              "      <th>18328</th>\n",
              "      <td>news_house</td>\n",
              "      <td>轻 奢 生活 百花 启幕 碧桂园 桂园 百花 里 产品 发布 发布会 璀璨 绽放 清镇 碧桂...</td>\n",
              "    </tr>\n",
              "    <tr>\n",
              "      <th>242156</th>\n",
              "      <td>news_travel</td>\n",
              "      <td>倒计 倒计时 计时 天 襄阳 公里 一级 路标 标准 西三环 三环 环线 即将 开建 牛 首...</td>\n",
              "    </tr>\n",
              "    <tr>\n",
              "      <th>177382</th>\n",
              "      <td>news_finance</td>\n",
              "      <td>有没有 没有 些小 小众 质量 品牌</td>\n",
              "    </tr>\n",
              "    <tr>\n",
              "      <th>369178</th>\n",
              "      <td>news_entertainment</td>\n",
              "      <td>应 采 怀 时 接地 地气 霍思燕 肚子 更 可能 当年 王菲 小时 时代 怀孕 霍思燕 身...</td>\n",
              "    </tr>\n",
              "    <tr>\n",
              "      <th>88378</th>\n",
              "      <td>news_edu</td>\n",
              "      <td>宝宝 念 小学 二年 二年级 年级 成绩 差 爱 学习 办法 提高 学习 兴趣</td>\n",
              "    </tr>\n",
              "    <tr>\n",
              "      <th>162753</th>\n",
              "      <td>news_edu</td>\n",
              "      <td>九江 职 院 第八 第八届 八届 全国 国大 大学 大学生 学生 生机 机械 创新 新设 设...</td>\n",
              "    </tr>\n",
              "    <tr>\n",
              "      <th>192158</th>\n",
              "      <td>news_sports</td>\n",
              "      <td>克服 习惯 习惯性 惯性 崴 脚</td>\n",
              "    </tr>\n",
              "    <tr>\n",
              "      <th>111159</th>\n",
              "      <td>news_finance</td>\n",
              "      <td>希腊 房子 快 买光 传言 究竟 竟是 真是 真是假 中远 集团 希腊 经济 比雷埃夫斯 夫...</td>\n",
              "    </tr>\n",
              "    <tr>\n",
              "      <th>338168</th>\n",
              "      <td>news_finance</td>\n",
              "      <td>岁 股市 女 奇才 豪言 研 股市 尾盘 买入 入法 半年 赚 千万 收藏 尾盘 选 股 超...</td>\n",
              "    </tr>\n",
              "    <tr>\n",
              "      <th>258235</th>\n",
              "      <td>news_finance</td>\n",
              "      <td>龙头 特 停 卡位 龙头 恒瑞 恒瑞医药 医药 新 题材 贵州 复星 医药 新 医药</td>\n",
              "    </tr>\n",
              "  </tbody>\n",
              "</table>\n",
              "</div>\n",
              "      <button class=\"colab-df-convert\" onclick=\"convertToInteractive('df-c73381ad-afeb-4472-8ed6-e8701859e8f7')\"\n",
              "              title=\"Convert this dataframe to an interactive table.\"\n",
              "              style=\"display:none;\">\n",
              "        \n",
              "  <svg xmlns=\"http://www.w3.org/2000/svg\" height=\"24px\"viewBox=\"0 0 24 24\"\n",
              "       width=\"24px\">\n",
              "    <path d=\"M0 0h24v24H0V0z\" fill=\"none\"/>\n",
              "    <path d=\"M18.56 5.44l.94 2.06.94-2.06 2.06-.94-2.06-.94-.94-2.06-.94 2.06-2.06.94zm-11 1L8.5 8.5l.94-2.06 2.06-.94-2.06-.94L8.5 2.5l-.94 2.06-2.06.94zm10 10l.94 2.06.94-2.06 2.06-.94-2.06-.94-.94-2.06-.94 2.06-2.06.94z\"/><path d=\"M17.41 7.96l-1.37-1.37c-.4-.4-.92-.59-1.43-.59-.52 0-1.04.2-1.43.59L10.3 9.45l-7.72 7.72c-.78.78-.78 2.05 0 2.83L4 21.41c.39.39.9.59 1.41.59.51 0 1.02-.2 1.41-.59l7.78-7.78 2.81-2.81c.8-.78.8-2.07 0-2.86zM5.41 20L4 18.59l7.72-7.72 1.47 1.35L5.41 20z\"/>\n",
              "  </svg>\n",
              "      </button>\n",
              "      \n",
              "  <style>\n",
              "    .colab-df-container {\n",
              "      display:flex;\n",
              "      flex-wrap:wrap;\n",
              "      gap: 12px;\n",
              "    }\n",
              "\n",
              "    .colab-df-convert {\n",
              "      background-color: #E8F0FE;\n",
              "      border: none;\n",
              "      border-radius: 50%;\n",
              "      cursor: pointer;\n",
              "      display: none;\n",
              "      fill: #1967D2;\n",
              "      height: 32px;\n",
              "      padding: 0 0 0 0;\n",
              "      width: 32px;\n",
              "    }\n",
              "\n",
              "    .colab-df-convert:hover {\n",
              "      background-color: #E2EBFA;\n",
              "      box-shadow: 0px 1px 2px rgba(60, 64, 67, 0.3), 0px 1px 3px 1px rgba(60, 64, 67, 0.15);\n",
              "      fill: #174EA6;\n",
              "    }\n",
              "\n",
              "    [theme=dark] .colab-df-convert {\n",
              "      background-color: #3B4455;\n",
              "      fill: #D2E3FC;\n",
              "    }\n",
              "\n",
              "    [theme=dark] .colab-df-convert:hover {\n",
              "      background-color: #434B5C;\n",
              "      box-shadow: 0px 1px 3px 1px rgba(0, 0, 0, 0.15);\n",
              "      filter: drop-shadow(0px 1px 2px rgba(0, 0, 0, 0.3));\n",
              "      fill: #FFFFFF;\n",
              "    }\n",
              "  </style>\n",
              "\n",
              "      <script>\n",
              "        const buttonEl =\n",
              "          document.querySelector('#df-c73381ad-afeb-4472-8ed6-e8701859e8f7 button.colab-df-convert');\n",
              "        buttonEl.style.display =\n",
              "          google.colab.kernel.accessAllowed ? 'block' : 'none';\n",
              "\n",
              "        async function convertToInteractive(key) {\n",
              "          const element = document.querySelector('#df-c73381ad-afeb-4472-8ed6-e8701859e8f7');\n",
              "          const dataTable =\n",
              "            await google.colab.kernel.invokeFunction('convertToInteractive',\n",
              "                                                     [key], {});\n",
              "          if (!dataTable) return;\n",
              "\n",
              "          const docLinkHtml = 'Like what you see? Visit the ' +\n",
              "            '<a target=\"_blank\" href=https://colab.research.google.com/notebooks/data_table.ipynb>data table notebook</a>'\n",
              "            + ' to learn more about interactive tables.';\n",
              "          element.innerHTML = '';\n",
              "          dataTable['output_type'] = 'display_data';\n",
              "          await google.colab.output.renderOutput(dataTable, element);\n",
              "          const docLink = document.createElement('div');\n",
              "          docLink.innerHTML = docLinkHtml;\n",
              "          element.appendChild(docLink);\n",
              "        }\n",
              "      </script>\n",
              "    </div>\n",
              "  </div>\n",
              "  "
            ]
          },
          "metadata": {},
          "execution_count": 2
        }
      ]
    },
    {
      "cell_type": "code",
      "source": [
        "print(\"在 labek 列中总共有 %d 个空值.\" % df['label'].isnull().sum())#查看label列的空值\n",
        "print(\"在 news 列中总共有 %d 个空值.\" % df['news'].isnull().sum())\n",
        "df[df.isnull().values==True]#isnull返回一个布尔数组\n",
        "df = df[pd.notnull(df['news'])]#保留非null的news\n"
      ],
      "metadata": {
        "colab": {
          "base_uri": "https://localhost:8080/"
        },
        "id": "1seMI_d0UOpn",
        "outputId": "08534084-6a76-4f11-fc49-993709751706"
      },
      "execution_count": 3,
      "outputs": [
        {
          "output_type": "stream",
          "name": "stdout",
          "text": [
            "在 labek 列中总共有 0 个空值.\n",
            "在 news 列中总共有 52 个空值.\n"
          ]
        }
      ]
    },
    {
      "cell_type": "code",
      "source": [
        "d = {'label':df['label'].value_counts().index, 'count': df['label'].value_counts()}#使用字典方法创建dataframe\n",
        "df_label = pd.DataFrame(data=d).reset_index(drop=True)#数据清洗时，会将带空值的行删除，此时DataFrame或Series类型的数据不再是连续的索引，可以使用reset_index()重置索引。\n",
        "print(df_label)\n"
      ],
      "metadata": {
        "id": "V9n8ZW1YXbEI",
        "colab": {
          "base_uri": "https://localhost:8080/"
        },
        "outputId": "e66dbfc9-744c-471f-c44c-a28ba7065cdb"
      },
      "execution_count": 4,
      "outputs": [
        {
          "output_type": "stream",
          "name": "stdout",
          "text": [
            "                 label  count\n",
            "0            news_tech  41531\n",
            "1   news_entertainment  39395\n",
            "2          news_sports  37566\n",
            "3             news_car  35784\n",
            "4            news_game  29299\n",
            "5         news_culture  28031\n",
            "6         news_finance  27085\n",
            "7             news_edu  27025\n",
            "8           news_world  26909\n",
            "9        news_military  24983\n",
            "10         news_travel  21422\n",
            "11    news_agriculture  19321\n",
            "12          news_house  17672\n",
            "13          news_story   6273\n",
            "14               stock    340\n",
            "15               label      1\n"
          ]
        }
      ]
    },
    {
      "cell_type": "code",
      "source": [
        "import numpy as np\n",
        "import matplotlib.pyplot as plt\n",
        "import matplotlib as mpl\n",
        " \n",
        "label = [i for i in df_label[\"label\"]]\n",
        "count = [int(i) for i in df_label[\"count\"]]  \n",
        "labels = label[0:-1]\n",
        "count = count[0:-1]\n",
        "fig = plt.figure()\n",
        "plt.figure(figsize=(20,15),dpi=70)\n",
        "plt.bar(labels,count,0.9,color=\"green\")\n",
        "plt.xlabel(\"label\")\n",
        "plt.ylabel(\"count\")\n",
        "plt.show() \n"
      ],
      "metadata": {
        "id": "NIH4uNHdUwCH",
        "colab": {
          "base_uri": "https://localhost:8080/",
          "height": 873
        },
        "outputId": "8cb60a33-c282-4483-d8c9-eb8f262d3b37"
      },
      "execution_count": 5,
      "outputs": [
        {
          "output_type": "display_data",
          "data": {
            "text/plain": [
              "<Figure size 432x288 with 0 Axes>"
            ]
          },
          "metadata": {}
        },
        {
          "output_type": "display_data",
          "data": {
            "text/plain": [
              "<Figure size 1400x1050 with 1 Axes>"
            ],
            "image/png": "[encoded data removed]"
          },
          "metadata": {
            "needs_background": "light"
          }
        }
      ]
    },
    {
      "cell_type": "code",
      "source": [
        "df['label_id'] = df['label'].factorize()[0]\n",
        "label_id_df = df[['label', 'label_id']].drop_duplicates().sort_values('label_id').reset_index(drop=True)\n",
        "label_to_id = dict(label_id_df.values)\n",
        "id_to_label = dict(label_id_df[['label_id', 'label']].values)\n",
        "print(df.sample(10))\n"
      ],
      "metadata": {
        "id": "CFNRT4lkU9wk",
        "colab": {
          "base_uri": "https://localhost:8080/"
        },
        "outputId": "abbfe15a-463e-4f68-bb06-a9bcdbdbe68e"
      },
      "execution_count": 6,
      "outputs": [
        {
          "output_type": "stream",
          "name": "stdout",
          "text": [
            "                   label                                               news  \\\n",
            "320566  news_agriculture  农村 村俗 俗语 离家 千里 勿 食 枸杞 到底 啥意思 意思 想 歪 中国 中国民俗 国民...   \n",
            "223585     news_military                                       美国 退出 联合 联合国   \n",
            "380729     news_military                 以色列 现在 挂出 免战 免战牌 声明 无意 升级 战争 对此 看待   \n",
            "332714      news_culture                                        上联 一夜 春风 下联   \n",
            "158507       news_travel  福建 小村 村庄 千年 年来 蚊子 生存 淳朴 民俗 民俗风情 风情 人流 流连 流连忘返 ...   \n",
            "182673        news_house  沅江 江畔 崛起 一座 未来 之城 常德 共生 生长 中建 生态 智慧 城 沅江 常德 常德...   \n",
            "204752        news_house                          咸阳 彬县 新区 房价 现在 基本 钱 会上 上涨   \n",
            "312063         news_tech  微 信 小程 程序 裂变 状态 抢占 亿万 市场 程序 亚洲 亚洲一号 一号 微 信 无人 ...   \n",
            "350784          news_edu                                      口中 老师 究竟 竟是 指   \n",
            "27159          news_tech  小米 上市 估值 超 百度 雷 军 穿越 互联 互联网 联网 黑暗 森林 黑暗 森林 滴滴 ...   \n",
            "\n",
            "        label_id  \n",
            "320566        12  \n",
            "223585         9  \n",
            "380729         9  \n",
            "332714         1  \n",
            "158507        10  \n",
            "182673         5  \n",
            "204752         5  \n",
            "312063         8  \n",
            "350784         7  \n",
            "27159          8  \n"
          ]
        }
      ]
    },
    {
      "cell_type": "code",
      "source": [
        "from keras.preprocessing.text import Tokenizer\n",
        "\n",
        "MAX_NB_WORDS = 50000 # 设置最频繁使用的50000个词\n",
        "MAX_SEQUENCE_LENGTH = 250  # 每条cut_news最大的长度\n",
        "EMBEDDING_DIM = 100 # 设置Embeddingceng层的维度\n",
        "#num_words: 保留的最大词数，根据词频计算，保留前num_word - 1个\n",
        "tokenizer = Tokenizer(num_words=MAX_NB_WORDS, filters='!\"#$%&()*+,-./:;<=>?@[\\]^_`{|}~', lower=True)\n",
        "tokenizer.fit_on_texts(df['news'].values)\n",
        "word_index = tokenizer.word_index\n",
        "print('共有 %s 个不相同的词语.' % len(word_index))\n",
        "\n",
        "from keras.preprocessing.sequence import pad_sequences\n",
        "X = tokenizer.texts_to_sequences(df['news'].values)\n",
        "#经过上一步操作后，X为整数构成的两层嵌套list\n",
        "X = pad_sequences(X, maxlen=MAX_SEQUENCE_LENGTH)\n",
        "#经过上步操作后，此时X变成了numpy.ndarray\n",
        "#多类标签的onehot展开\n",
        "Y = pd.get_dummies(df['label_id']).values\n",
        "\n",
        "from sklearn.model_selection import train_test_split\n",
        "#拆分训练集和测试集，X为被划分样本的特征集，Y为被划分样本的标签\n",
        "X_train, X_test, Y_train, Y_test = train_test_split(X,Y, test_size = 0.10, random_state = 42)\n",
        "\n",
        "import tensorflow as tf\n",
        "model = tf.keras.models.Sequential()\n",
        "model.add(tf.keras.layers.Embedding(MAX_NB_WORDS, EMBEDDING_DIM, input_length=X.shape[1]))\n",
        "model.add(tf.keras.layers.SpatialDropout1D(0.2))#dropout会随机独立地将部分元素置零，而SpatialDropout1D会随机地对某个特定的纬度全部置零\n",
        "model.add(tf.keras.layers.LSTM(100, dropout=0.2, recurrent_dropout=0.2))\n",
        "model.add(tf.keras.layers.Dense(16, activation='softmax'))#输出层包含15个分类的全连接层，激活函数设置为softmax\n",
        "model.compile(loss='categorical_crossentropy', optimizer='adam', metrics=['accuracy'])\n",
        "print(model.summary())\n"
      ],
      "metadata": {
        "id": "RUuqurTIVRIC",
        "colab": {
          "base_uri": "https://localhost:8080/"
        },
        "outputId": "6721344d-0b4f-40cc-f078-6595ebaadc41"
      },
      "execution_count": 8,
      "outputs": [
        {
          "output_type": "stream",
          "name": "stdout",
          "text": [
            "共有 144646 个不相同的词语.\n",
            "Model: \"sequential\"\n",
            "_________________________________________________________________\n",
            " Layer (type)                Output Shape              Param #   \n",
            "=================================================================\n",
            " embedding (Embedding)       (None, 250, 100)          5000000   \n",
            "                                                                 \n",
            " spatial_dropout1d (SpatialD  (None, 250, 100)         0         \n",
            " ropout1D)                                                       \n",
            "                                                                 \n",
            " lstm (LSTM)                 (None, 100)               80400     \n",
            "                                                                 \n",
            " dense (Dense)               (None, 16)                1616      \n",
            "                                                                 \n",
            "=================================================================\n",
            "Total params: 5,082,016\n",
            "Trainable params: 5,082,016\n",
            "Non-trainable params: 0\n",
            "_________________________________________________________________\n",
            "None\n"
          ]
        }
      ]
    },
    {
      "cell_type": "code",
      "source": [
        "from keras.callbacks import EarlyStopping\n",
        "epochs = 5\n",
        "batch_size = 64 #指定梯度下降时每个batch包含的样本数\n",
        "#callbacks（list），其中元素是keras.callbacks.Callback的对象。这个list的回调函数将在训练过程中的适当时机被调用\n",
        "#validation_split指定训练集中百分之十的数据作为验证集\n",
        "history = model.fit(X_train, Y_train, epochs=epochs, batch_size=batch_size,validation_split=0.1,\n",
        "                    callbacks=[EarlyStopping(monitor='val_loss', patience=3, min_delta=0.0001)])\n",
        "\n",
        "model.save(r'./model.h5')#保存模型\n"
      ],
      "metadata": {
        "id": "M2gZ9tLWVpN6",
        "colab": {
          "base_uri": "https://localhost:8080/"
        },
        "outputId": "c7d50fb3-7527-4493-c97c-0aa87a4e0767"
      },
      "execution_count": null,
      "outputs": [
        {
          "output_type": "stream",
          "name": "stdout",
          "text": [
            "Epoch 1/5\n",
            "2382/4843 [=============>................] - ETA: 30:51 - loss: 0.6994 - accuracy: 0.7995"
          ]
        }
      ]
    },
    {
      "cell_type": "code",
      "source": [
        "def plot_graphs(history, string):\n",
        "    plt.plot(history.history[string])\n",
        "    plt.plot(history.history['val_' + string])\n",
        "    plt.xlabel(\"Epochs\")\n",
        "    plt.ylabel(string)\n",
        "    plt.legend([string, 'val_' + string])\n",
        "    plt.show()\n",
        "\n",
        "\n",
        "plot_graphs(history, \"accuracy\")\n",
        "plot_graphs(history, \"loss\")\n"
      ],
      "metadata": {
        "id": "KbRgI-QmVs7O"
      },
      "execution_count": null,
      "outputs": []
    },
    {
      "cell_type": "code",
      "source": [
        "#预测两条新闻\n",
        "def Predict(text):\n",
        "    txt = pretty_cut(text)\n",
        "    seq = tokenizer.texts_to_sequences(txt)\n",
        "    padded = pad_sequences(seq, maxlen=MAX_SEQUENCE_LENGTH)\n",
        "    pred = model.predict(padded)\n",
        "    label_id= pred.argmax(axis=1)[0]\n",
        "    print(text + \" : \" + label_id_df[label_id_df.label_id==label_id]['label'].values[0])\n"
      ],
      "metadata": {
        "id": "6q0wQVBcVvH0"
      },
      "execution_count": null,
      "outputs": []
    },
    {
      "cell_type": "code",
      "source": [
        "Predict(\"腾讯发布“00后画像报告” 颠覆我们对这一代的认知 00后,00后画像报告,腾讯,大数据,腾讯QQ\")\n",
        "#腾讯发布“00后画像报告” 颠覆我们对这一代的认知 00后,00后画像报告,腾讯,大数据,腾讯QQ : news_tech\n"
      ],
      "metadata": {
        "id": "j4N9obFEVw3X"
      },
      "execution_count": null,
      "outputs": []
    },
    {
      "cell_type": "code",
      "source": [
        "Predict(\"教师招聘重要考点备考之中国古代教育专题 有教无类,孔子,九品中正制,科举制,察举制\")\n",
        "#教师招聘重要考点备考之中国古代教育专题 有教无类,孔子,九品中正制,科举制,察举制 : news_edu\n",
        "\n"
      ],
      "metadata": {
        "id": "qGyMTxaGVzlY"
      },
      "execution_count": null,
      "outputs": []
    },
    {
      "cell_type": "code",
      "source": [
        "#预测测试集\n",
        "from sklearn.metrics import accuracy_score\n",
        "from sklearn.metrics import classification_report\n",
        "y_pred = model.predict(X_test)\n",
        "y_pred = np.argmax(y_pred, axis=1)\n",
        "Y_test=np.argmax(Y_test, axis=1)#将one-hot编码转换为整数\n",
        "print('accuracy %s' % accuracy_score(y_pred, Y_test))\n",
        "print(classification_report(Y_test, y_pred,target_names=[str(w) for w in labels]))\n"
      ],
      "metadata": {
        "id": "ZxdqJAcfGGAI"
      },
      "execution_count": null,
      "outputs": []
    },
    {
      "cell_type": "code",
      "source": [
        "Predict(\"被问小糯米有没有想妈妈杨幂 刘丹回应“我不知道”\")"
      ],
      "metadata": {
        "id": "_VP_y5bVtmhI"
      },
      "execution_count": null,
      "outputs": []
    },
    {
      "cell_type": "code",
      "source": [
        "Predict(\"128家中概股被美列入预摘牌名单，回港上市是下一步？\")"
      ],
      "metadata": {
        "id": "4PjzEJhItsHk"
      },
      "execution_count": null,
      "outputs": []
    },
    {
      "cell_type": "code",
      "source": [
        "Predict(\"未来房价会跌到什么程度？\")"
      ],
      "metadata": {
        "id": "kRVvWaSDt3eW"
      },
      "execution_count": null,
      "outputs": []
    },
    {
      "cell_type": "code",
      "source": [
        "Predict(\"谢娜为李浩菲澄清网络谣言，之后她的两个行为给自己加分 佟丽娅,网络谣言,快乐大本营,李浩菲,谢娜,观众们\")"
      ],
      "metadata": {
        "id": "yqsVixvcuNWX"
      },
      "execution_count": null,
      "outputs": []
    },
    {
      "cell_type": "code",
      "source": [
        "Predict(\"交警查车也有“潜规则”，他们就爱拦这些车，几乎一查一个准 电动车,半挂车,交通法,改装车\")"
      ],
      "metadata": {
        "id": "PnjQmlCiuZTe"
      },
      "execution_count": null,
      "outputs": []
    },
    {
      "cell_type": "code",
      "source": [
        "Predict(\"教师招聘重要考点备考之中国古代教育专题 有教无类,孔子,九品中正制,科举制,察举制\")"
      ],
      "metadata": {
        "id": "hOiKKsM-uZZC"
      },
      "execution_count": null,
      "outputs": []
    }
  ]
}